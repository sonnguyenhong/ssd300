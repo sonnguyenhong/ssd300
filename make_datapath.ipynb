{
 "cells": [
  {
   "cell_type": "code",
   "execution_count": 7,
   "id": "4c56edbc",
   "metadata": {},
   "outputs": [],
   "source": [
    "from lib import *\n",
    "import os\n",
    "import os.path as osp\n",
    "\n",
    "def make_datapath_list(root_path):\n",
    "    image_path_template = osp.join(root_path, \"JPEGImages\", \"%s.jpg\")\n",
    "    annotation_path_template = osp.join(root_path, \"Annotations\", \"%s.xml\")\n",
    "    \n",
    "    train_id_names = osp.join(root_path, \"ImageSets/Main/train.txt\")\n",
    "    val_id_names = osp.join(root_path, \"ImageSets/Main/val.txt\")\n",
    "    \n",
    "    train_img_list = list()\n",
    "    train_annotation_list = list()\n",
    "    \n",
    "    for line in open(train_id_names):\n",
    "        file_id = line.strip() # xoa ky tu xuong dong, xoa space\n",
    "        img_path = (image_path_template % file_id)\n",
    "        annotation_path = (annotation_path_template % file_id)\n",
    "        \n",
    "        train_img_list.append(img_path)\n",
    "        train_annotation_list.append(annotation_path)\n",
    "    \n",
    "    val_img_list = list()\n",
    "    val_annotation_list = list()\n",
    "    \n",
    "    for line in open(val_id_names):\n",
    "        file_id = line.strip()\n",
    "        img_path = (image_path_template % file_id)\n",
    "        annotation_path = (annotation_path_template % file_id)\n",
    "        \n",
    "        val_img_list.append(img_path)\n",
    "        val_annotation_list.append(annotation_path)\n",
    "        \n",
    "    return train_img_list, train_annotation_list, val_img_list, val_annotation_list"
   ]
  },
  {
   "cell_type": "code",
   "execution_count": 8,
   "id": "bdb028d4",
   "metadata": {},
   "outputs": [
    {
     "name": "stdout",
     "output_type": "stream",
     "text": [
      "5717\n",
      ".\\data\\VOCdevkit\\VOC2012\\JPEGImages\\2008_000008.jpg\n"
     ]
    }
   ],
   "source": [
    "if __name__ == \"__main__\":\n",
    "    root_path = \".\\data\\VOCdevkit\\VOC2012\"\n",
    "    train_img_list, train_annotation_list, val_img_list, val_annotation_list = make_datapath_list(root_path)\n",
    "    \n",
    "    print(len(train_img_list))\n",
    "    print(train_img_list[0])"
   ]
  },
  {
   "cell_type": "code",
   "execution_count": null,
   "id": "982a5365",
   "metadata": {},
   "outputs": [],
   "source": []
  }
 ],
 "metadata": {
  "kernelspec": {
   "display_name": "Python 3",
   "language": "python",
   "name": "python3"
  },
  "language_info": {
   "codemirror_mode": {
    "name": "ipython",
    "version": 3
   },
   "file_extension": ".py",
   "mimetype": "text/x-python",
   "name": "python",
   "nbconvert_exporter": "python",
   "pygments_lexer": "ipython3",
   "version": "3.6.13"
  }
 },
 "nbformat": 4,
 "nbformat_minor": 5
}
