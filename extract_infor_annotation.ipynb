{
 "cells": [
  {
   "cell_type": "code",
   "execution_count": 8,
   "id": "b941ce85",
   "metadata": {},
   "outputs": [
    {
     "name": "stdout",
     "output_type": "stream",
     "text": [
      "5717\n",
      ".\\data\\VOCdevkit\\VOC2012\\JPEGImages\\2008_000008.jpg\n"
     ]
    }
   ],
   "source": [
    "%run lib.ipynb\n",
    "%run make_datapath.ipynb"
   ]
  },
  {
   "cell_type": "code",
   "execution_count": 19,
   "id": "250343ee",
   "metadata": {},
   "outputs": [],
   "source": [
    "class AnnoXml(object):\n",
    "    def __init__(self, classes):\n",
    "        self.classes= classes\n",
    "        \n",
    "    # Ham __call__ chi can goi object ra la no tu chay\n",
    "    def __call__(self, xml_path, width, height):\n",
    "        # include image annotation\n",
    "        ret = []\n",
    "        \n",
    "        # read file xml\n",
    "        xml = ET.parse(xml_path).getroot()\n",
    "        \n",
    "        for obj in xml.iter('object'):\n",
    "            difficult = int(obj.find(\"difficult\").text)\n",
    "            if difficult == 1:\n",
    "                continue\n",
    "            # bounding box information \n",
    "            bndbox = []\n",
    "            name = obj.find(\"name\").text.lower().strip()\n",
    "            \n",
    "            bbox = obj.find(\"bndbox\")\n",
    "            points = [\"xmin\", \"ymin\", \"xmax\", \"ymax\"]\n",
    "            for p in points:\n",
    "                pixel = int(bbox.find(p).text) - 1\n",
    "                if p == \"xmin\" or p == \"xmax\":\n",
    "                    pixel /= width   # ratio of width\n",
    "                else:\n",
    "                    pixel /= height  # ratio of height\n",
    "                \n",
    "                bndbox.append(pixel)\n",
    "            \n",
    "            label_id = self.classes.index(name)\n",
    "            bndbox.append(label_id)\n",
    "            \n",
    "            ret += [bndbox]\n",
    "        return np.array(ret)   # [[xmin, ymin, xmax, ymax, label_id], ...]"
   ]
  },
  {
   "cell_type": "code",
   "execution_count": 20,
   "id": "427ae074",
   "metadata": {},
   "outputs": [
    {
     "name": "stdout",
     "output_type": "stream",
     "text": [
      "333 500 3\n",
      "[[ 0.09        0.03003003  0.998       0.996997   18.        ]\n",
      " [ 0.122       0.56756757  0.164       0.72672673 14.        ]]\n"
     ]
    }
   ],
   "source": [
    "if __name__ == \"__main__\":\n",
    "    classes = [\"aeroplane\", \"bicycle\", \"bird\", \"boat\", \"bottle\", \"bus\", \"car\", \"cat\", \"chair\", \"cow\", \n",
    "               \"diningtable\", \"dog\", \"horse\", \"motorbike\", \"person\", \"pottedplant\", \"sheep\",\n",
    "              \"sofa\", \"train\", \"tvmonitor\"]\n",
    "    \n",
    "    anno_xml = AnnoXml(classes)\n",
    "    root_path = \".\\\\data\\\\VOCdevkit\\\\VOC2012\\\\\"\n",
    "    train_img_list, train_annotation_list, val_img_list, val_annotation_list = make_datapath_list(root_path)\n",
    "    \n",
    "    idx = 1\n",
    "    img_file_path = val_img_list[idx]\n",
    "    \n",
    "    img = cv2.imread(img_file_path)  # (height, width, channels - RGB)\n",
    "    height, width, channels= img.shape\n",
    "    \n",
    "    print(height, width, channels)\n",
    "    \n",
    "    annotation_infor = anno_xml(val_annotation_list[idx], width, height)\n",
    "    print(annotation_infor)"
   ]
  },
  {
   "cell_type": "code",
   "execution_count": null,
   "id": "91e1a93a",
   "metadata": {},
   "outputs": [],
   "source": []
  }
 ],
 "metadata": {
  "kernelspec": {
   "display_name": "Python 3",
   "language": "python",
   "name": "python3"
  },
  "language_info": {
   "codemirror_mode": {
    "name": "ipython",
    "version": 3
   },
   "file_extension": ".py",
   "mimetype": "text/x-python",
   "name": "python",
   "nbconvert_exporter": "python",
   "pygments_lexer": "ipython3",
   "version": "3.6.13"
  }
 },
 "nbformat": 4,
 "nbformat_minor": 5
}
