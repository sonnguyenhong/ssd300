{
 "cells": [
  {
   "cell_type": "code",
   "execution_count": 1,
   "id": "dfce2d2b",
   "metadata": {},
   "outputs": [
    {
     "name": "stdout",
     "output_type": "stream",
     "text": [
      "5717\n",
      ".\\data\\VOCdevkit\\VOC2012\\JPEGImages\\2008_000008.jpg\n",
      "5717\n",
      ".\\data\\VOCdevkit\\VOC2012\\JPEGImages\\2008_000008.jpg\n",
      "[[ 0.09        0.03003003  0.998       0.996997   18.        ]\n",
      " [ 0.122       0.56756757  0.164       0.72672673 14.        ]]\n"
     ]
    }
   ],
   "source": [
    "%run utils/augmentation.ipynb\n",
    "%run make_datapath.ipynb\n",
    "%run lib.ipynb\n",
    "%run extract_infor_annotation.ipynb"
   ]
  },
  {
   "cell_type": "code",
   "execution_count": 2,
   "id": "d7820519",
   "metadata": {},
   "outputs": [],
   "source": [
    "import matplotlib.pyplot as plt"
   ]
  },
  {
   "cell_type": "code",
   "execution_count": 3,
   "id": "28a7720a",
   "metadata": {},
   "outputs": [],
   "source": [
    "class DataTransform():\n",
    "    def __init__(self, input_size, color_mean):\n",
    "        self.data_transform = {\n",
    "            \"train\": Compose([\n",
    "                ConvertFromInts(), # convert image from int to float 32\n",
    "                ToAbsoluteCoords(), # back annotation to normal type\n",
    "                PhotometricDistort(), # change color by random\n",
    "                Expand(color_mean), \n",
    "                RandomSampleCrop(), # randomcrop image\n",
    "                RandomMirror(), # xoay ảnh ngược lại\n",
    "                ToPercentCoords(), # chuẩn hoá annotation data về dạng [0-1]\n",
    "                Resize(input_size),\n",
    "                SubtractMeans(color_mean) # Subtract mean của BGR\n",
    "            ]), \n",
    "            \"val\": Compose([\n",
    "                ConvertFromInts(), # convert image from int to float 32\n",
    "                Resize(input_size),\n",
    "                SubtractMeans(color_mean)\n",
    "            ])\n",
    "        }\n",
    "\n",
    "    def __call__(self, img, phase, boxes, labels):\n",
    "        return self.data_transform[phase](img, boxes, labels)\n"
   ]
  },
  {
   "cell_type": "code",
   "execution_count": 4,
   "id": "c807281d",
   "metadata": {},
   "outputs": [],
   "source": [
    "# if __name__ == \"__main__\":\n",
    "#     classes = [\"aeroplane\", \"bicycle\", \"bird\", \"boat\", \"bottle\", \"bus\", \"car\", \"cat\", \"chair\", \"cow\", \n",
    "#                \"diningtable\", \"dog\", \"horse\", \"motorbike\", \"person\", \"pottedplant\", \"sheep\",\n",
    "#               \"sofa\", \"train\", \"tvmonitor\"]\n",
    "    \n",
    "#     # prepare list\n",
    "#     root_path = \".\\\\data\\\\VOCdevkit\\\\VOC2012\\\\\"\n",
    "#     train_img_list, train_annotation_list, val_img_list, val_annotation_list = make_datapath_list(root_path)\n",
    "    \n",
    "#     # read image\n",
    "#     img_file_path = train_img_list[0]\n",
    "#     img= cv2.imread(img_file_path)  # height, width, channels(BGR)\n",
    "#     height, width, channels = img.shape\n",
    "    \n",
    "#     # annotation information\n",
    "#     trans_anno  = AnnoXml(classes)\n",
    "#     anno_info_list = trans_anno(train_annotation_list[0], width, height)\n",
    "    \n",
    "#     # plot original image\n",
    "#     plt.imshow(cv2.cvtColor(img, cv2.COLOR_BGR2RGB))\n",
    "#     plt.show()\n",
    "    \n",
    "#     color_mean = (104, 117, 123)   # 104.00699, 116.66877, 122.67892\n",
    "#     input_size = 300\n",
    "    \n",
    "#     transform = DataTransform(input_size, color_mean)\n",
    "    \n",
    "#     #transform train img\n",
    "#     phase = \"train\"\n",
    "#     img_transformed, boxes, labels = transform(img, phase, anno_info_list[:, :4], anno_info_list[:, 4])\n",
    "#     plt.imshow(cv2.cvtColor(img_transformed, cv2.COLOR_BGR2RGB))\n",
    "#     plt.show()\n",
    "    \n",
    "#     # transform val image\n",
    "#     phase = \"val\"\n",
    "#     img_transformed, boxes, labels = transform(img, phase, anno_info_list[:, :4], anno_info_list[:, 4])\n",
    "#     plt.imshow(cv2.cvtColor(img_transformed, cv2.COLOR_BGR2RGB))\n",
    "#     plt.show()\n",
    "    "
   ]
  },
  {
   "cell_type": "code",
   "execution_count": null,
   "id": "b514c146",
   "metadata": {},
   "outputs": [],
   "source": []
  }
 ],
 "metadata": {
  "kernelspec": {
   "display_name": "Python 3",
   "language": "python",
   "name": "python3"
  },
  "language_info": {
   "codemirror_mode": {
    "name": "ipython",
    "version": 3
   },
   "file_extension": ".py",
   "mimetype": "text/x-python",
   "name": "python",
   "nbconvert_exporter": "python",
   "pygments_lexer": "ipython3",
   "version": "3.6.13"
  }
 },
 "nbformat": 4,
 "nbformat_minor": 5
}
