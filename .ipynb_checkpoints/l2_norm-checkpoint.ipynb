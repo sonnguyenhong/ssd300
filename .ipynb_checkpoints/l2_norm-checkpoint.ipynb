{
 "cells": [
  {
   "cell_type": "code",
   "execution_count": 5,
   "id": "9c55b46e",
   "metadata": {},
   "outputs": [],
   "source": [
    "%run lib.ipynb"
   ]
  },
  {
   "cell_type": "code",
   "execution_count": 6,
   "id": "fa3c5b3b",
   "metadata": {},
   "outputs": [],
   "source": [
    "class L2Norm(torch.nn.Module):\n",
    "    def __init__(self, input_channels=512, scale=20):\n",
    "        super(L2Norm, self).__init__()\n",
    "        self.weight = torch.nn.Parameter(torch.Tensor(input_channels))\n",
    "        self.scale = scale\n",
    "        self.reset_parameters()\n",
    "        self.eps = 1e-10\n",
    "        \n",
    "    def reset_parameters(self):\n",
    "        torch.nn.init.constant_(self.weight, self.scale)\n",
    "        \n",
    "    def forward(self, x):\n",
    "        norm = x.pow(2).sum(dim=1, keepdim=True).sqrt() + self.eps\n",
    "        x = torch.div(x, norm)\n",
    "        # weight.size() = (512) ==> (1, 512, 1, 1)\n",
    "        weights = self.weight.unsqueeze(0).unsqueeze(2).unsqueeze(3).expand_as(x)\n",
    "        \n",
    "        return weights * x"
   ]
  },
  {
   "cell_type": "code",
   "execution_count": null,
   "id": "511c5cf7",
   "metadata": {},
   "outputs": [],
   "source": []
  }
 ],
 "metadata": {
  "kernelspec": {
   "display_name": "Python 3",
   "language": "python",
   "name": "python3"
  },
  "language_info": {
   "codemirror_mode": {
    "name": "ipython",
    "version": 3
   },
   "file_extension": ".py",
   "mimetype": "text/x-python",
   "name": "python",
   "nbconvert_exporter": "python",
   "pygments_lexer": "ipython3",
   "version": "3.6.13"
  }
 },
 "nbformat": 4,
 "nbformat_minor": 5
}
