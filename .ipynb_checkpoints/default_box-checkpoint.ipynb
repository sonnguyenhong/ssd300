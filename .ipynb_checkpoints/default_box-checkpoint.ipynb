{
 "cells": [
  {
   "cell_type": "code",
   "execution_count": 1,
   "id": "eb0c8cd2",
   "metadata": {},
   "outputs": [],
   "source": [
    "%run lib.ipynb"
   ]
  },
  {
   "cell_type": "code",
   "execution_count": 2,
   "id": "f67e1e11",
   "metadata": {},
   "outputs": [],
   "source": [
    "config = {\n",
    "    \"num_classes\": 21,\n",
    "    \"input_size\": 300,\n",
    "    \"bbox_aspect_num\": [4, 6, 6, 6, 4, 4],\n",
    "    \"feature_maps\": [38, 19, 10, 5, 3, 1],\n",
    "    \"steps\": [8, 16, 32, 64, 100, 300], # size of default box\n",
    "    \"min_size\": [30, 60, 111, 162, 213, 264],\n",
    "    \"max_size\": [60, 111, 162, 213, 264, 315],\n",
    "    \"aspect_ratios\": [[2], [2, 3], [2, 3], [2, 3], [2], [2]]\n",
    "}\n",
    "\n",
    "class DefaultBox():\n",
    "    def __init__(self, config):\n",
    "        self.img_size = config[\"input_size\"]\n",
    "        self.feature_maps = config[\"feature_maps\"]\n",
    "        self.min_size = config[\"min_size\"]\n",
    "        self.max_size = config[\"max_size\"]\n",
    "        self.aspect_ratios = config[\"aspect_ratios\"]\n",
    "        self.steps = config[\"steps\"]\n",
    "        \n",
    "    def create_defbox(self):\n",
    "        defbox_list = []\n",
    "        for k, f in enumerate(self.feature_maps):\n",
    "            for i, j in itertools.product(range(f), repeat=2):\n",
    "                f_k = self.img_size / self.steps[k]\n",
    "                \n",
    "                cx = (i + 0.5) / f_k\n",
    "                cy = (j + 0.5) / f_k\n",
    "                \n",
    "                # small square box\n",
    "                s_k = self.min_size[k] / self.img_size\n",
    "                defbox_list += [cx, cy, s_k, s_k]\n",
    "                \n",
    "                # big square box\n",
    "                s_k = sqrt(s_k * (self.max_size[k] / self.img_size))\n",
    "                defbox_list += [cx, cy, s_k, s_k]\n",
    "                \n",
    "                for ar in self.aspect_ratios[k]:\n",
    "                    defbox_list += [cx, cy, s_k * sqrt(ar), s_k / sqrt(ar)]\n",
    "                    defbox_list += [cx, cy, s_k / sqrt(ar), s_k * sqrt(ar)]\n",
    "                    \n",
    "        output = torch.Tensor(defbox_list).view(-1, 4)\n",
    "        output.clamp_(max=1, min=0)\n",
    "        return output"
   ]
  },
  {
   "cell_type": "code",
   "execution_count": 3,
   "id": "775d92b9",
   "metadata": {},
   "outputs": [
    {
     "name": "stdout",
     "output_type": "stream",
     "text": [
      "             0         1         2         3\n",
      "0     0.013333  0.013333  0.100000  0.100000\n",
      "1     0.013333  0.013333  0.141421  0.141421\n",
      "2     0.013333  0.013333  0.200000  0.100000\n",
      "3     0.013333  0.013333  0.100000  0.200000\n",
      "4     0.013333  0.040000  0.100000  0.100000\n",
      "...        ...       ...       ...       ...\n",
      "8727  0.833333  0.833333  0.558928  1.000000\n",
      "8728  0.500000  0.500000  0.880000  0.880000\n",
      "8729  0.500000  0.500000  0.961249  0.961249\n",
      "8730  0.500000  0.500000  1.000000  0.679706\n",
      "8731  0.500000  0.500000  0.679706  1.000000\n",
      "\n",
      "[8732 rows x 4 columns]\n"
     ]
    }
   ],
   "source": [
    "if __name__ == \"__main__\":\n",
    "    defbox = DefaultBox(config)\n",
    "    dbox_list = defbox.create_defbox()\n",
    "#     print(dbox_list)\n",
    "    print(pd.DataFrame(dbox_list.numpy()))"
   ]
  },
  {
   "cell_type": "code",
   "execution_count": null,
   "id": "9eb39069",
   "metadata": {},
   "outputs": [],
   "source": []
  }
 ],
 "metadata": {
  "kernelspec": {
   "display_name": "Python 3",
   "language": "python",
   "name": "python3"
  },
  "language_info": {
   "codemirror_mode": {
    "name": "ipython",
    "version": 3
   },
   "file_extension": ".py",
   "mimetype": "text/x-python",
   "name": "python",
   "nbconvert_exporter": "python",
   "pygments_lexer": "ipython3",
   "version": "3.6.13"
  }
 },
 "nbformat": 4,
 "nbformat_minor": 5
}
