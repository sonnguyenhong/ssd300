{
 "cells": [
  {
   "cell_type": "code",
   "execution_count": 8,
   "id": "b941ce85",
   "metadata": {},
   "outputs": [
    {
     "name": "stdout",
     "output_type": "stream",
     "text": [
      "5717\n",
      ".\\data\\VOCdevkit\\VOC2012\\JPEGImages\\2008_000008.jpg\n"
     ]
    }
   ],
   "source": [
    "%run lib.ipynb\n",
    "%run make_datapath.ipynb"
   ]
  },
  {
   "cell_type": "code",
   "execution_count": 19,
   "id": "250343ee",
   "metadata": {},
   "outputs": [],
   "source": [
    "class Anno_xml(object):\n",
    "    def __init__(self, classes):\n",
    "        self.classes = classes\n",
    "    \n",
    "    def __call__(self, xml_path, width, height):\n",
    "        # include image annotation\n",
    "        ret = []\n",
    "        # read file xml\n",
    "        xml = ET.parse(xml_path).getroot()\n",
    "        \n",
    "        for obj in xml.iter('object'):\n",
    "            difficult = int(obj.find(\"difficult\").text)\n",
    "            if difficult == 1:\n",
    "                continue\n",
    "            # information for bounding box    \n",
    "            bndbox = []\n",
    "            name = obj.find(\"name\").text.lower().strip()\n",
    "            bbox = obj.find(\"bndbox\")\n",
    "            pts = [\"xmin\", \"ymin\", \"xmax\", \"ymax\"]\n",
    "            for pt in pts:\n",
    "                pixel = int(bbox.find(pt).text) - 1\n",
    "                if pt == \"xmin\" or pt == \"xmax\":\n",
    "                    pixel /= width # ratio of width\n",
    "                else:\n",
    "                    pixel /= height # ratio of height \n",
    "                bndbox.append(pixel)\n",
    "            label_id = self.classes.index(name)\n",
    "            bndbox.append(label_id)\n",
    "            ret += [bndbox]\n",
    "        return np.array(ret) #[[xmin, ymin, xmax, ymax, label_id], ......]"
   ]
  },
  {
   "cell_type": "code",
   "execution_count": 20,
   "id": "427ae074",
   "metadata": {},
   "outputs": [
    {
     "name": "stdout",
     "output_type": "stream",
     "text": [
      "333 500 3\n",
      "[[ 0.09        0.03003003  0.998       0.996997   18.        ]\n",
      " [ 0.122       0.56756757  0.164       0.72672673 14.        ]]\n"
     ]
    }
   ],
   "source": [
    "if __name__ == \"__main__\":\n",
    "    classes = [\"aeroplane\", \"bicycle\", \"bird\",  \"boat\", \"bottle\", \n",
    "               \"bus\", \"car\", \"cat\", \"chair\", \"cow\", \"diningtable\",\n",
    "               \"dog\", \"horse\", \"motorbike\", \"person\", \"pottedplant\",\n",
    "               \"sheep\", \"sofa\", \"train\", \"tvmonitor\"]\n",
    "    anno_xml = Anno_xml(classes)\n",
    "\n",
    "    root_path = \"./data/VOCdevkit/VOC2012/\"\n",
    "    train_img_list, train_annotation_list, val_img_list, val_annotation_list = make_datapath_list(root_path)\n",
    "    idx = 1\n",
    "    img_file_path = val_img_list[idx]\n",
    "    img = cv2.imread(img_file_path) # [height, width, 3 channels:BGR]\n",
    "    height, width, channels = img.shape # get size img\n",
    "    # print(\"Size img {}, {}, {}\".format(height, width, channels))\n",
    "    # xml_path, width, height\n",
    "    annotation_infor = anno_xml(val_annotation_list[idx], width, height)\n",
    "    print(annotation_infor)\n"
   ]
  },
  {
   "cell_type": "code",
   "execution_count": null,
   "id": "91e1a93a",
   "metadata": {},
   "outputs": [],
   "source": []
  }
 ],
 "metadata": {
  "kernelspec": {
   "display_name": "Python 3",
   "language": "python",
   "name": "python3"
  },
  "language_info": {
   "codemirror_mode": {
    "name": "ipython",
    "version": 3
   },
   "file_extension": ".py",
   "mimetype": "text/x-python",
   "name": "python",
   "nbconvert_exporter": "python",
   "pygments_lexer": "ipython3",
   "version": "3.6.13"
  }
 },
 "nbformat": 4,
 "nbformat_minor": 5
}
